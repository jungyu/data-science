{
  "nbformat": 4,
  "nbformat_minor": 0,
  "metadata": {
    "colab": {
      "provenance": []
    },
    "kernelspec": {
      "name": "python3",
      "display_name": "Python 3"
    },
    "language_info": {
      "name": "python"
    }
  },
  "cells": [
    {
      "cell_type": "code",
      "execution_count": 5,
      "metadata": {
        "colab": {
          "base_uri": "https://localhost:8080/"
        },
        "id": "ow0LS-Cf7jsy",
        "outputId": "4bb30bdd-34d4-487a-e092-03f7645fc403"
      },
      "outputs": [
        {
          "output_type": "stream",
          "name": "stdout",
          "text": [
            "[{'name': 'Pingtung City', 'local_names': {'ascii': 'Pingdong City', 'ko': '핑둥 시', 'ru': 'Пингтунг', 'en': 'Pingtung City', 'ja': '屏東市', 'zh': '屏東市', 'de': 'Pingtung', 'it': 'Pingtung', 'feature_name': 'Pingdong City', 'vi': 'Bình Đông'}, 'lat': 22.6697227, 'lon': 120.4884652, 'country': 'TW'}]\n"
          ]
        }
      ],
      "source": [
        "import requests\n",
        "\n",
        "#OpenWeather API KEY https://openweathermap.org/\n",
        "API_KEY = \"你的金鑰\"\n",
        "\n",
        "#取得指定的城市經緯座標\n",
        "URL = f\"http://api.openweathermap.org/geo/1.0/direct?q=pingtung&appid={API_KEY}\"\n",
        "response = requests.get(URL)\n",
        "data = response.json()  # 解析為 JSON\n",
        "print(data)"
      ]
    },
    {
      "cell_type": "markdown",
      "source": [
        "解讀 json formatter 工具:\n",
        "\n",
        "*   https://jsonformatter.curiousconcept.com/\n",
        "\n"
      ],
      "metadata": {
        "id": "C97k3oAV-idC"
      }
    },
    {
      "cell_type": "code",
      "source": [
        "#取得指定經緯座標之氣象\n",
        "lat = \"22.6697227\"\n",
        "lon = \"22.6697227\"\n",
        "\n",
        "URL = f\"https://api.openweathermap.org/data/2.5/weather?lat={lat}&lon={lon}&appid={API_KEY}\"\n",
        "response = requests.get(URL)\n",
        "data = response.json()  # 解析為 JSON\n",
        "print(data)"
      ],
      "metadata": {
        "colab": {
          "base_uri": "https://localhost:8080/"
        },
        "id": "f_vl18yM9baf",
        "outputId": "71c80e97-fdef-453a-d34b-9ddbf941524a"
      },
      "execution_count": 7,
      "outputs": [
        {
          "output_type": "stream",
          "name": "stdout",
          "text": [
            "{'coord': {'lon': 22.6697, 'lat': 22.6697}, 'weather': [{'id': 800, 'main': 'Clear', 'description': 'clear sky', 'icon': '01n'}], 'base': 'stations', 'main': {'temp': 285.92, 'feels_like': 284.32, 'temp_min': 285.92, 'temp_max': 285.92, 'pressure': 1016, 'humidity': 41, 'sea_level': 1016, 'grnd_level': 955}, 'visibility': 10000, 'wind': {'speed': 5.15, 'deg': 92, 'gust': 10.23}, 'clouds': {'all': 3}, 'dt': 1740283430, 'sys': {'sunrise': 1740286543, 'sunset': 1740328199}, 'timezone': 7200, 'id': 0, 'name': '', 'cod': 200}\n"
          ]
        }
      ]
    },
    {
      "cell_type": "markdown",
      "source": [
        "台灣中央氣象局（CWB, Central Weather Bureau）提供氣象 API，你可以使用 **CWB Open Data API** 來獲取 **屏東縣** 的即時天氣。  "
      ],
      "metadata": {
        "id": "0FePlvfwBEi5"
      }
    },
    {
      "cell_type": "code",
      "source": [
        "import requests\n",
        "\n",
        "# 台灣中央氣象局 CWB API KEY（請至 https://opendata.cwb.gov.tw/ 申請）\n",
        "API_KEY = \"你的金鑰\"\n",
        "\n",
        "LOCATION_NAME = \"屏東縣\"\n",
        "DATASET_ID = \"F-C0032-001\" #臺灣各縣市天氣預報資料及國際都市天氣預報\n",
        "\n",
        "\n",
        "# API URL\n",
        "URL = f\"https://opendata.cwa.gov.tw/api/v1/rest/datastore/{DATASET_ID}?Authorization={API_KEY}&locationName={LOCATION_NAME}\"\n",
        "\n",
        "# 發送請求\n",
        "try:\n",
        "    response = requests.get(URL)\n",
        "    response.raise_for_status() # Raise HTTPError for bad responses (4xx or 5xx)\n",
        "except requests.exceptions.RequestException as e:\n",
        "    print(f\"An error occurred: {e}\")\n",
        "else:\n",
        "\n",
        "    # 解析 JSON\n",
        "    data = response.json()\n",
        "    print(data)\n"
      ],
      "metadata": {
        "colab": {
          "base_uri": "https://localhost:8080/"
        },
        "id": "jq310FreA_U1",
        "outputId": "f6aa1006-540f-415e-9788-91d81c312a18"
      },
      "execution_count": 12,
      "outputs": [
        {
          "output_type": "stream",
          "name": "stdout",
          "text": [
            "{'success': 'true', 'result': {'resource_id': 'F-C0032-001', 'fields': [{'id': 'datasetDescription', 'type': 'String'}, {'id': 'locationName', 'type': 'String'}, {'id': 'parameterName', 'type': 'String'}, {'id': 'parameterValue', 'type': 'String'}, {'id': 'parameterUnit', 'type': 'String'}, {'id': 'startTime', 'type': 'Timestamp'}, {'id': 'endTime', 'type': 'Timestamp'}]}, 'records': {'datasetDescription': '三十六小時天氣預報', 'location': [{'locationName': '屏東縣', 'weatherElement': [{'elementName': 'Wx', 'time': [{'startTime': '2025-02-23 12:00:00', 'endTime': '2025-02-23 18:00:00', 'parameter': {'parameterName': '晴時多雲', 'parameterValue': '2'}}, {'startTime': '2025-02-23 18:00:00', 'endTime': '2025-02-24 06:00:00', 'parameter': {'parameterName': '陰時多雲', 'parameterValue': '6'}}, {'startTime': '2025-02-24 06:00:00', 'endTime': '2025-02-24 18:00:00', 'parameter': {'parameterName': '晴時多雲', 'parameterValue': '2'}}]}, {'elementName': 'PoP', 'time': [{'startTime': '2025-02-23 12:00:00', 'endTime': '2025-02-23 18:00:00', 'parameter': {'parameterName': '0', 'parameterUnit': '百分比'}}, {'startTime': '2025-02-23 18:00:00', 'endTime': '2025-02-24 06:00:00', 'parameter': {'parameterName': '0', 'parameterUnit': '百分比'}}, {'startTime': '2025-02-24 06:00:00', 'endTime': '2025-02-24 18:00:00', 'parameter': {'parameterName': '0', 'parameterUnit': '百分比'}}]}, {'elementName': 'MinT', 'time': [{'startTime': '2025-02-23 12:00:00', 'endTime': '2025-02-23 18:00:00', 'parameter': {'parameterName': '22', 'parameterUnit': 'C'}}, {'startTime': '2025-02-23 18:00:00', 'endTime': '2025-02-24 06:00:00', 'parameter': {'parameterName': '14', 'parameterUnit': 'C'}}, {'startTime': '2025-02-24 06:00:00', 'endTime': '2025-02-24 18:00:00', 'parameter': {'parameterName': '14', 'parameterUnit': 'C'}}]}, {'elementName': 'CI', 'time': [{'startTime': '2025-02-23 12:00:00', 'endTime': '2025-02-23 18:00:00', 'parameter': {'parameterName': '舒適'}}, {'startTime': '2025-02-23 18:00:00', 'endTime': '2025-02-24 06:00:00', 'parameter': {'parameterName': '寒冷至舒適'}}, {'startTime': '2025-02-24 06:00:00', 'endTime': '2025-02-24 18:00:00', 'parameter': {'parameterName': '寒冷至舒適'}}]}, {'elementName': 'MaxT', 'time': [{'startTime': '2025-02-23 12:00:00', 'endTime': '2025-02-23 18:00:00', 'parameter': {'parameterName': '26', 'parameterUnit': 'C'}}, {'startTime': '2025-02-23 18:00:00', 'endTime': '2025-02-24 06:00:00', 'parameter': {'parameterName': '22', 'parameterUnit': 'C'}}, {'startTime': '2025-02-24 06:00:00', 'endTime': '2025-02-24 18:00:00', 'parameter': {'parameterName': '24', 'parameterUnit': 'C'}}]}]}]}}\n"
          ]
        }
      ]
    },
    {
      "cell_type": "markdown",
      "source": [
        "### **解釋**\n",
        "1. **API 來源**：  \n",
        "   - 台灣中央氣象局的 API 需要 **API Key** 授權。\n",
        "  \n",
        "2. **地點查詢方式**：  \n",
        "   - CWB API 使用 **行政區名稱（屏東縣）** 而非經緯度來查詢天氣。\n",
        "   - 你可以從 [CWB Open Data](https://opendata.cwb.gov.tw/) 查找其他地區代碼。\n",
        "\n",
        "3. **回應資料格式**：\n",
        "   - CWB API 返回的 JSON 內容較 OpenWeather 複雜，解析時需確認資料結構（如 `weatherElement` 屬性）。\n",
        "\n",
        "---\n",
        "\n",
        "### **如何申請 API 金鑰**\n",
        "1. 註冊 [中央氣象局開放資料平臺](https://opendata.cwb.gov.tw/)\n",
        "2. 申請 API Key，並將 **`API_KEY`** 替換為你的金鑰。\n",
        "\n",
        "這樣，你就能成功獲取 **屏東縣** 的即時天氣資訊！ 🚀"
      ],
      "metadata": {
        "id": "XWNXBb58BOy6"
      }
    }
  ]
}